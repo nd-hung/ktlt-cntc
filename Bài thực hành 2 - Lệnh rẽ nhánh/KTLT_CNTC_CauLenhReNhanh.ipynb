{
 "cells": [
  {
   "cell_type": "markdown",
   "id": "ce45d8db",
   "metadata": {},
   "source": [
    "# Câu lệnh rẽ nhánh\n",
    "\n",
    "## Sử dụng\n",
    "Câu lệnh rẽ nhánh dùng để cài đặt hành động lựa chọn tùy theo kết quả của điều kiện đặt ra.\n",
    "## Cú pháp\n",
    "### Dạng 1: \n",
    "```python\n",
    "if <BT điều kiện>: <Lệnh>\n",
    "```\n",
    "- Trong đó:\n",
    "\n",
    "    <BT điều kiện> là một biểu thức logic, cho kết quả đúng (True) hoặc sai (False)\n",
    "    \n",
    "    <Lệnh> là một khối lệnh, có thể một lệnh đơn hoặc nhiều lệnh\n",
    "\n",
    "- Thực hiện: \n",
    "\n",
    "Nếu <BT điều kiện> cho kết quả đúng thì <Lệnh> được thực thi. \n",
    "\n",
    "Nếu <BT điều kiện> sai thì <Lệnh> không được thực thi, chương trình chuyển sang xử lý lệnh kế tiếp.\n",
    "\n",
    "### Dạng 2:\n",
    "```python\n",
    "if <BT điều kiện>: \n",
    "    <Lệnh 1>\n",
    "else:\n",
    "    <Lệnh 2>\n",
    "```\n",
    "\n",
    "- Thực hiện: \n",
    "\n",
    "Nếu <BT điều kiện> cho kết quả đúng thì <Lệnh 1> được thực thi. Ngược lại (nếu <BT điều kiện sai>) thì <Lệnh 2> được thực thi.\n",
    "\n",
    "### Dạng 3:\n",
    "```python\n",
    "if <BT điều kiện 1>: \n",
    "    <Lệnh 1>\n",
    "elif <BT điều kiện 2>:\n",
    "    <Lệnh 2>\n",
    "elif <BT điều kiện 3>:\n",
    "    <Lệnh 3>\n",
    "    ...\n",
    "elif <BT điều kiện n>:\n",
    "    <Lệnh n>\n",
    "else:\n",
    "    <Lệnh n+1>\n",
    "```"
   ]
  },
  {
   "cell_type": "markdown",
   "id": "85ac5cf7",
   "metadata": {},
   "source": [
    "## Bài thực hành\n",
    "#### 1. Viết chương trình nhập vào từ bàn phím điểm trung bình học tập của một học sinh. In ra xếp loại học tập của học sinh đó, dựa vào bảng xếp loại sau:\n",
    "\n",
    "| ĐTB      | Xếp loại |\n",
    "| ----------- | ----------- |\n",
    "| ĐTB < 0 hoặc ĐTB > 10      | Không hợp lệ    |\n",
    "| 0 < ĐTB < 5   | Yếu        |\n",
    "| 5 <= ĐTB < 7   | Trung bình       |\n",
    "| 7 <= ĐTB < 8   | Khá       |\n",
    "| 8 <= ĐTB < 9   | Giỏi       |\n",
    "| 9 <= ĐTB <= 10   | Xuất sắc  |\n"
   ]
  },
  {
   "cell_type": "code",
   "execution_count": 1,
   "id": "2b0cf221",
   "metadata": {},
   "outputs": [
    {
     "name": "stdout",
     "output_type": "stream",
     "text": [
      "Nhập điểm trung bình của học sinh:4\n"
     ]
    }
   ],
   "source": [
    "# Bước 1: Nhập dữ liệu\n",
    "diemTB = float(input(\"Nhập điểm trung bình của học sinh:\"))\n",
    "\n"
   ]
  },
  {
   "cell_type": "markdown",
   "id": "76ae350c",
   "metadata": {},
   "source": [
    "#### 2. Viết chương trình nhập vào từ bàn phím đơn giá, số lượng của một sản phẩm. Tính số tiền phải trả cho sản phẩm, biết\n",
    "\n",
    "| Số sản phẩm      | Mức giảm giá |\n",
    "| ----------- | ----------- |\n",
    "| 0 < số sản phẩm <= 50      | Không giảm giá   |\n",
    "| 50 < số sản phẩm <= 100   | Giảm 5% |\n",
    "| số sản phẩm > 100   | Giảm 10%"
   ]
  },
  {
   "cell_type": "code",
   "execution_count": null,
   "id": "abca3d48",
   "metadata": {},
   "outputs": [],
   "source": []
  }
 ],
 "metadata": {
  "kernelspec": {
   "display_name": "Python 3 (ipykernel)",
   "language": "python",
   "name": "python3"
  },
  "language_info": {
   "codemirror_mode": {
    "name": "ipython",
    "version": 3
   },
   "file_extension": ".py",
   "mimetype": "text/x-python",
   "name": "python",
   "nbconvert_exporter": "python",
   "pygments_lexer": "ipython3",
   "version": "3.11.5"
  }
 },
 "nbformat": 4,
 "nbformat_minor": 5
}
