{
 "cells": [
  {
   "cell_type": "markdown",
   "id": "77d39b68",
   "metadata": {},
   "source": [
    "# Câu lệnh điều khiển lặp\n",
    "\n",
    "## Tóm tắt lý thuyết\n",
    "- Câu lệnh điều khiển lặp dùng để lặp lại một khối lệnh theo một điều kiện đặt ra.\n",
    "\n",
    "### Lệnh lặp for\n",
    "#### Cú pháp\n",
    "##### Dạng 1\n",
    "```python\n",
    "for <Biến điều khiển> in <Danh sách>:\n",
    "    <Lệnh>\n",
    "```\n",
    "\n",
    "##### Dạng 2\n",
    "```python\n",
    "for <Biến điều khiển> in range(N):\n",
    "    <Lệnh>\n",
    "```\n",
    "\n",
    "### Lệnh lặp while\n",
    "#### Cú pháp\n",
    "```python\n",
    "while <Điều kiện lặp>:\n",
    "    <Lệnh>\n",
    "```\n"
   ]
  },
  {
   "cell_type": "markdown",
   "id": "4f9c30c2",
   "metadata": {},
   "source": [
    "## Bài thực hành\n",
    "### Bài 1. Nhập số nguyên n > 0. Tính giá trị các biểu thức sau:\n",
    "a) S1 = $1^{2}+2^{2}+...+n^{2}$\n",
    "\n",
    "b) S2 = $1+\\frac{1}{2}+\\frac{1}{3}+...+\\frac{1}{n}$\n",
    "\n",
    "c) S3 = 1 + 3 + 5 + ... + (2n + 1)\n",
    "\n",
    "d) S4 = $1+\\frac{1}{1+2}+\\frac{1}{1+2+3}+...+\\frac{1}{1+2+3+...+n}$"
   ]
  },
  {
   "cell_type": "code",
   "execution_count": 3,
   "id": "533ce03b",
   "metadata": {},
   "outputs": [
    {
     "name": "stdout",
     "output_type": "stream",
     "text": [
      "Nhập số nguyên n > 0:10\n",
      "Cách 1: Tổng = 385\n",
      "Cách 2: Tổng = 385\n"
     ]
    }
   ],
   "source": [
    "# B1: Nhập n\n",
    "n = int(input(\"Nhập số nguyên n > 0:\"))\n",
    "\n",
    "# B2: \n",
    "s1 = 0 #  Khởi tạo biến s để chứa giá trị biểu thức\n",
    "# Để tính giá trị biểu thức, ta xét lần lượt các số nguyên i liên tiếp từ 1 đến n\n",
    "# và cộng i*i vào s1\n",
    "# Cách 1: Dùng lệnh lặp for\n",
    "for i in range(1, n+1):\n",
    "    s1 = s1 + i**2\n",
    "# sau khi vòng lặp kết thúc -> in ra kết quả\n",
    "print(\"Cách 1: Tổng = {}\".format(s1))\n",
    "\n",
    "# Cách 2: Dùng lệnh lặp while\n",
    "s1 = 0     # reset s1 = 0\n",
    "i = 1   # Khởi tạo só nguyên i = 1\n",
    "while i <= n:\n",
    "    # Nếu i còn thỏa <= n thì thực hiện khối lệnh\n",
    "    s1 = s1 + i*i\n",
    "    i += 1   # tăng i lên giá trị tiếp theo\n",
    "# sau khi vòng lặp kết thúc -> in ra kết quả\n",
    "print(\"Cách 2: Tổng = {}\".format(s1))"
   ]
  },
  {
   "cell_type": "code",
   "execution_count": null,
   "id": "13f27b46",
   "metadata": {},
   "outputs": [],
   "source": []
  }
 ],
 "metadata": {
  "kernelspec": {
   "display_name": "Python 3 (ipykernel)",
   "language": "python",
   "name": "python3"
  },
  "language_info": {
   "codemirror_mode": {
    "name": "ipython",
    "version": 3
   },
   "file_extension": ".py",
   "mimetype": "text/x-python",
   "name": "python",
   "nbconvert_exporter": "python",
   "pygments_lexer": "ipython3",
   "version": "3.11.5"
  }
 },
 "nbformat": 4,
 "nbformat_minor": 5
}
